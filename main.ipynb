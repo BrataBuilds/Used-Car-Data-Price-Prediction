{
 "cells": [
  {
   "cell_type": "markdown",
   "metadata": {},
   "source": [
    "# Used Car Re-Selling Price Prediction.\n",
    "We have a data set that contains the data for used cars and their features such as :\n",
    "\n",
    "- Name : The brand and model of the vehicle.\n",
    "- Location: The place where the car is available for purchase.\n",
    "- Year: The manufacturing year of the car.\n",
    "- Kilometers_Driven: The total distance covered by the car in kilometers under previous ownership.\n",
    "- Fuel_Type: The type of fuel used by the car, such as Petrol, Diesel, Electric, CNG, or LPG.\n",
    "- Transmission: The type of gearbox used in the car, either Automatic or Manual.\n",
    "- Owner_Type: Whether the car is a First-hand, Second-hand, or other.\n",
    "- Mileage: The standard fuel efficiency offered by the car company, measured in kilometers per liter (kmpl) or kilometers per kilogram km/kg.\n",
    "- Engine: The volume of the car's engine measured in cubic centimeters (CC).\n",
    "- Power: The maximum power output of the car's engine measured in brake horsepower (bhp).\n",
    "- Seats: The number of seats available in the car.\n",
    "- New_Price: The cost of a brand-new car of the same model.\n",
    "\n",
    "Our primary objective is to predict the resale price of a used car based on this dataset. The output column for our purpose:\n",
    "- Price: The resale value of the used car in Lakhs INR."
   ]
  },
  {
   "cell_type": "markdown",
   "metadata": {},
   "source": [
    "## Steps for machine learning :\n",
    "1. Data Gathering. \n",
    "2. Data Pre-Processing .\n",
    "3. Choosing a Model.\n",
    "4. Train the Model.\n",
    "5. Data Evalution and Testing ."
   ]
  },
  {
   "cell_type": "markdown",
   "metadata": {},
   "source": [
    "## 1.Data Gathering   \n",
    "The data-set was downloaded from [here.](https://www.kaggle.com/datasets/avikasliwal/used-cars-price-prediction?select=train-data.csv)\n",
    "\n",
    "We shall use the file  ***train-data.csv*** for both training the model and testing purposes."
   ]
  },
  {
   "cell_type": "markdown",
   "metadata": {},
   "source": [
    "## 2.Data Pre-Processing ."
   ]
  },
  {
   "cell_type": "markdown",
   "metadata": {},
   "source": [
    "We Import the necessary libraries for data pre-processing"
   ]
  },
  {
   "cell_type": "code",
   "execution_count": 1,
   "metadata": {},
   "outputs": [],
   "source": [
    "import pandas as pd \n",
    "from sklearn.preprocessing import LabelEncoder"
   ]
  },
  {
   "cell_type": "markdown",
   "metadata": {},
   "source": [
    "We will use the unnamed index column for indexing."
   ]
  },
  {
   "cell_type": "code",
   "execution_count": 2,
   "metadata": {},
   "outputs": [],
   "source": [
    "train_data = pd.read_csv('train-data.csv',index_col= 'Unnamed: 0')"
   ]
  },
  {
   "cell_type": "code",
   "execution_count": 3,
   "metadata": {},
   "outputs": [
    {
     "name": "stdout",
     "output_type": "stream",
     "text": [
      "<class 'pandas.core.frame.DataFrame'>\n",
      "Index: 6019 entries, 0 to 6018\n",
      "Data columns (total 13 columns):\n",
      " #   Column             Non-Null Count  Dtype  \n",
      "---  ------             --------------  -----  \n",
      " 0   Name               6019 non-null   object \n",
      " 1   Location           6019 non-null   object \n",
      " 2   Year               6019 non-null   int64  \n",
      " 3   Kilometers_Driven  6019 non-null   int64  \n",
      " 4   Fuel_Type          6019 non-null   object \n",
      " 5   Transmission       6019 non-null   object \n",
      " 6   Owner_Type         6019 non-null   object \n",
      " 7   Mileage            6017 non-null   object \n",
      " 8   Engine             5983 non-null   object \n",
      " 9   Power              5983 non-null   object \n",
      " 10  Seats              5977 non-null   float64\n",
      " 11  New_Price          824 non-null    object \n",
      " 12  Price              6019 non-null   float64\n",
      "dtypes: float64(2), int64(2), object(9)\n",
      "memory usage: 658.3+ KB\n"
     ]
    }
   ],
   "source": [
    "train_data.info()"
   ]
  },
  {
   "cell_type": "markdown",
   "metadata": {},
   "source": [
    "We delete the column **'New_Price'**  as it contains excessive null values and is not necessary for our purpose. "
   ]
  },
  {
   "cell_type": "code",
   "execution_count": 4,
   "metadata": {},
   "outputs": [],
   "source": [
    "train_data.drop('New_Price', axis = 1, inplace= True)"
   ]
  },
  {
   "cell_type": "markdown",
   "metadata": {},
   "source": [
    "### Cleaning the `null` Values\n",
    "Checking for `null` values :"
   ]
  },
  {
   "cell_type": "code",
   "execution_count": 5,
   "metadata": {},
   "outputs": [
    {
     "name": "stdout",
     "output_type": "stream",
     "text": [
      "Name                  0\n",
      "Location              0\n",
      "Year                  0\n",
      "Kilometers_Driven     0\n",
      "Fuel_Type             0\n",
      "Transmission          0\n",
      "Owner_Type            0\n",
      "Mileage               2\n",
      "Engine               36\n",
      "Power                36\n",
      "Seats                42\n",
      "Price                 0\n",
      "dtype: int64\n"
     ]
    }
   ],
   "source": [
    "print(train_data.isnull().sum())"
   ]
  },
  {
   "cell_type": "markdown",
   "metadata": {},
   "source": [
    "We remove the `null` values in the columns :**Mileage** ,**Engine** , **Power** and **Seats**."
   ]
  },
  {
   "cell_type": "code",
   "execution_count": 6,
   "metadata": {},
   "outputs": [
    {
     "data": {
      "text/plain": [
       "Name                 0\n",
       "Location             0\n",
       "Year                 0\n",
       "Kilometers_Driven    0\n",
       "Fuel_Type            0\n",
       "Transmission         0\n",
       "Owner_Type           0\n",
       "Mileage              0\n",
       "Engine               0\n",
       "Power                0\n",
       "Seats                0\n",
       "Price                0\n",
       "dtype: int64"
      ]
     },
     "execution_count": 6,
     "metadata": {},
     "output_type": "execute_result"
    }
   ],
   "source": [
    "train_data.dropna(inplace=True)\n",
    "train_data.isnull().sum()"
   ]
  },
  {
   "cell_type": "markdown",
   "metadata": {},
   "source": [
    "### Correcting the Data Inconsistencies\n",
    "- We shall transform any `str` data type to `int` or `float` so that it can be processed by the algorithm during training.\n",
    "- We will also correct any inconsistencies that may exist."
   ]
  },
  {
   "cell_type": "markdown",
   "metadata": {},
   "source": [
    "#### Name"
   ]
  },
  {
   "cell_type": "code",
   "execution_count": 7,
   "metadata": {},
   "outputs": [
    {
     "name": "stdout",
     "output_type": "stream",
     "text": [
      "Name\n",
      "Mahindra XUV500 W8 2WD           49\n",
      "Maruti Swift VDI                 45\n",
      "Honda City 1.5 S MT              34\n",
      "Maruti Swift Dzire VDI           34\n",
      "Maruti Swift VDI BSIV            31\n",
      "                                 ..\n",
      "Ford Fiesta Titanium 1.5 TDCi     1\n",
      "Mahindra Scorpio S10 AT 4WD       1\n",
      "Hyundai i20 1.2 Era               1\n",
      "Toyota Camry W4 (AT)              1\n",
      "Mahindra Xylo D4 BSIV             1\n",
      "Name: count, Length: 1855, dtype: int64\n"
     ]
    }
   ],
   "source": [
    "print(train_data['Name'].value_counts())"
   ]
  },
  {
   "cell_type": "markdown",
   "metadata": {},
   "source": [
    "The **Name** column has excessive values to sort, we shall separate the brand and model name it into two columns : **Brand** and **Model** and analyse them. If the column,is easy to process we shall incorporate it for training the model."
   ]
  },
  {
   "cell_type": "code",
   "execution_count": 8,
   "metadata": {},
   "outputs": [],
   "source": [
    "train_data['Brand'] = train_data[\"Name\"].apply(lambda x:x.split()[0])\n",
    "train_data['Model'] = train_data[\"Name\"].apply(lambda x:' '.join(str(i) for i in  x.split()[1:]))\n"
   ]
  },
  {
   "cell_type": "markdown",
   "metadata": {},
   "source": [
    "##### Brand"
   ]
  },
  {
   "cell_type": "code",
   "execution_count": 9,
   "metadata": {},
   "outputs": [
    {
     "name": "stdout",
     "output_type": "stream",
     "text": [
      "Brand\n",
      "Lamborghini         1\n",
      "Isuzu               1\n",
      "Ambassador          1\n",
      "Smart               1\n",
      "Bentley             1\n",
      "ISUZU               2\n",
      "Force               3\n",
      "Datsun             13\n",
      "Jeep               15\n",
      "Porsche            18\n",
      "Volvo              21\n",
      "Fiat               25\n",
      "Mini               26\n",
      "Mitsubishi         27\n",
      "Jaguar             40\n",
      "Land               57\n",
      "Nissan             91\n",
      "Chevrolet         121\n",
      "Renault           145\n",
      "Skoda             173\n",
      "Tata              186\n",
      "Audi              236\n",
      "BMW               262\n",
      "Mahindra          271\n",
      "Ford              298\n",
      "Volkswagen        315\n",
      "Mercedes-Benz     318\n",
      "Toyota            409\n",
      "Honda             601\n",
      "Hyundai          1100\n",
      "Maruti           1197\n",
      "Name: count, dtype: int64\n"
     ]
    }
   ],
   "source": [
    "print(train_data['Brand'].value_counts(ascending=True))"
   ]
  },
  {
   "cell_type": "markdown",
   "metadata": {},
   "source": [
    "We shall remove the values with very few instances to avoid outliers."
   ]
  },
  {
   "cell_type": "code",
   "execution_count": 10,
   "metadata": {},
   "outputs": [],
   "source": [
    "# Function to get index of all the values.\n",
    "indices = []\n",
    "def get_index(values : list,):\n",
    "    for a in values:\n",
    "        indices.append(train_data[train_data['Brand'] == a].index.tolist())\n",
    "    return indices\n",
    "indices = get_index(['Lamborghini','Isuzu','Ambassador','Smart','Bentley','ISUZU','Force'])\n",
    "for i in indices:\n",
    "    train_data.drop(index = i,inplace = True,axis =0)"
   ]
  },
  {
   "cell_type": "markdown",
   "metadata": {},
   "source": [
    "We convert the `str` data to `int` using `LabelEncoder`."
   ]
  },
  {
   "cell_type": "code",
   "execution_count": 11,
   "metadata": {},
   "outputs": [],
   "source": [
    "leb = LabelEncoder()\n",
    "train_data['Brand'] = leb.fit_transform(train_data['Brand'])"
   ]
  },
  {
   "cell_type": "markdown",
   "metadata": {},
   "source": [
    "We acquire the values for future reference"
   ]
  },
  {
   "cell_type": "code",
   "execution_count": 12,
   "metadata": {},
   "outputs": [
    {
     "name": "stdout",
     "output_type": "stream",
     "text": [
      "Brands : ['Audi' 'BMW' 'Chevrolet' 'Datsun' 'Fiat' 'Ford' 'Honda' 'Hyundai'\n",
      " 'Jaguar' 'Jeep' 'Land' 'Mahindra' 'Maruti' 'Mercedes-Benz' 'Mini'\n",
      " 'Mitsubishi' 'Nissan' 'Porsche' 'Renault' 'Skoda' 'Tata' 'Toyota'\n",
      " 'Volkswagen' 'Volvo']\n"
     ]
    }
   ],
   "source": [
    "print(\"Brands :\",leb.classes_)"
   ]
  },
  {
   "cell_type": "markdown",
   "metadata": {},
   "source": [
    "##### Model"
   ]
  },
  {
   "cell_type": "code",
   "execution_count": 13,
   "metadata": {},
   "outputs": [
    {
     "name": "stdout",
     "output_type": "stream",
     "text": [
      "Model\n",
      "Xylo D4 BSIV                     1\n",
      "Figo 1.2P Titanium MT            1\n",
      "Xcent 1.2 VTVT SX                1\n",
      "Renault Logan 1.4 GLX Petrol     1\n",
      "Octavia 1.9 TDI                  1\n",
      "                                ..\n",
      "Swift VDI BSIV                  31\n",
      "Swift Dzire VDI                 34\n",
      "City 1.5 S MT                   34\n",
      "Swift VDI                       45\n",
      "XUV500 W8 2WD                   49\n",
      "Name: count, Length: 1847, dtype: int64\n"
     ]
    }
   ],
   "source": [
    "print(train_data['Model'].value_counts(ascending=True))"
   ]
  },
  {
   "cell_type": "markdown",
   "metadata": {},
   "source": [
    "We will use the **Brand** column to train the data and remove the **Name** and **Model** columns as they don't fit our standards and to avoid overfitting."
   ]
  },
  {
   "cell_type": "code",
   "execution_count": 14,
   "metadata": {},
   "outputs": [],
   "source": [
    "train_data.drop(columns=[\"Name\",'Model'],inplace = True)"
   ]
  },
  {
   "cell_type": "markdown",
   "metadata": {},
   "source": [
    "#### Location"
   ]
  },
  {
   "cell_type": "code",
   "execution_count": 15,
   "metadata": {},
   "outputs": [
    {
     "name": "stdout",
     "output_type": "stream",
     "text": [
      "['Mumbai' 'Pune' 'Chennai' 'Coimbatore' 'Hyderabad' 'Jaipur' 'Kochi'\n",
      " 'Kolkata' 'Delhi' 'Bangalore' 'Ahmedabad']\n"
     ]
    }
   ],
   "source": [
    "print(train_data['Location'].unique())"
   ]
  },
  {
   "cell_type": "markdown",
   "metadata": {},
   "source": [
    "We shall convert the `str` values to `int` using `Label Encoder`"
   ]
  },
  {
   "cell_type": "code",
   "execution_count": 16,
   "metadata": {},
   "outputs": [],
   "source": [
    "lel = LabelEncoder()\n",
    "train_data['Location'] = lel.fit_transform(train_data['Location'])"
   ]
  },
  {
   "cell_type": "markdown",
   "metadata": {},
   "source": [
    "We get the values for future reference"
   ]
  },
  {
   "cell_type": "code",
   "execution_count": 17,
   "metadata": {},
   "outputs": [
    {
     "name": "stdout",
     "output_type": "stream",
     "text": [
      "Locations : ['Ahmedabad' 'Bangalore' 'Chennai' 'Coimbatore' 'Delhi' 'Hyderabad'\n",
      " 'Jaipur' 'Kochi' 'Kolkata' 'Mumbai' 'Pune']\n"
     ]
    }
   ],
   "source": [
    "print('Locations :',lel.classes_)"
   ]
  },
  {
   "cell_type": "markdown",
   "metadata": {},
   "source": [
    "#### Transmission\n"
   ]
  },
  {
   "cell_type": "code",
   "execution_count": 18,
   "metadata": {},
   "outputs": [
    {
     "name": "stdout",
     "output_type": "stream",
     "text": [
      "Transmission\n",
      "Manual       4260\n",
      "Automatic    1705\n",
      "Name: count, dtype: int64\n"
     ]
    }
   ],
   "source": [
    "print(train_data['Transmission'].value_counts())"
   ]
  },
  {
   "cell_type": "markdown",
   "metadata": {},
   "source": [
    "#### Transforming the `str` to `int` or `float` for processing\n",
    "We shall label 'Manual' as 0 and 'Automatic' as 1."
   ]
  },
  {
   "cell_type": "code",
   "execution_count": 19,
   "metadata": {},
   "outputs": [],
   "source": [
    "train_data['Transmission']=train_data['Transmission'].replace({'Manual':0,'Automatic':1 })"
   ]
  },
  {
   "cell_type": "markdown",
   "metadata": {},
   "source": [
    "#### Year"
   ]
  },
  {
   "cell_type": "code",
   "execution_count": 20,
   "metadata": {},
   "outputs": [
    {
     "data": {
      "text/plain": [
       "array([2010, 2015, 2011, 2012, 2013, 2016, 2018, 2014, 2017, 2007, 2009,\n",
       "       2008, 2019, 2006, 2005, 2004, 2002, 2000, 2003, 1999, 2001, 1998],\n",
       "      dtype=int64)"
      ]
     },
     "execution_count": 20,
     "metadata": {},
     "output_type": "execute_result"
    }
   ],
   "source": [
    "train_data['Year'].unique()"
   ]
  },
  {
   "cell_type": "markdown",
   "metadata": {},
   "source": [
    "#### Kilometers Driven"
   ]
  },
  {
   "cell_type": "code",
   "execution_count": 21,
   "metadata": {},
   "outputs": [
    {
     "data": {
      "text/plain": [
       "array([72000, 41000, 46000, ..., 45004, 70602, 27365], dtype=int64)"
      ]
     },
     "execution_count": 21,
     "metadata": {},
     "output_type": "execute_result"
    }
   ],
   "source": [
    "train_data['Kilometers_Driven'].unique()"
   ]
  },
  {
   "cell_type": "markdown",
   "metadata": {},
   "source": [
    "#### Fuel Type"
   ]
  },
  {
   "cell_type": "code",
   "execution_count": 22,
   "metadata": {},
   "outputs": [
    {
     "data": {
      "text/plain": [
       "array(['CNG', 'Diesel', 'Petrol', 'LPG'], dtype=object)"
      ]
     },
     "execution_count": 22,
     "metadata": {},
     "output_type": "execute_result"
    }
   ],
   "source": [
    "train_data['Fuel_Type'].unique()"
   ]
  },
  {
   "cell_type": "markdown",
   "metadata": {},
   "source": [
    "##### Transforming the `str` to `int` so that we can use it to train our algorithm. \n",
    "We shall label 'Diesel' as 0, 'Petrol' as 1, 'CNG' as 2, 'LPG' as 3.  "
   ]
  },
  {
   "cell_type": "code",
   "execution_count": 23,
   "metadata": {},
   "outputs": [],
   "source": [
    "train_data['Fuel_Type']=train_data['Fuel_Type'].replace({'Diesel':0,\n",
    "                         'Petrol':1,\n",
    "                         'CNG':2,\n",
    "                         'LPG':3})"
   ]
  },
  {
   "cell_type": "markdown",
   "metadata": {},
   "source": [
    "#### Owner Type "
   ]
  },
  {
   "cell_type": "code",
   "execution_count": 24,
   "metadata": {},
   "outputs": [
    {
     "data": {
      "text/plain": [
       "array(['First', 'Second', 'Fourth & Above', 'Third'], dtype=object)"
      ]
     },
     "execution_count": 24,
     "metadata": {},
     "output_type": "execute_result"
    }
   ],
   "source": [
    "train_data['Owner_Type'].unique()"
   ]
  },
  {
   "cell_type": "markdown",
   "metadata": {},
   "source": [
    "##### Convert the `str`  to `int` values.  \n",
    "We shall label 'First' : 1, 'Second': 2, 'Third' : 3, 'Fourth & Above' : 4."
   ]
  },
  {
   "cell_type": "code",
   "execution_count": 25,
   "metadata": {},
   "outputs": [],
   "source": [
    "train_data['Owner_Type']=train_data['Owner_Type'].replace({'First':1,\n",
    "                                               'Second':2,\n",
    "                                               'Third':3,\n",
    "                                               'Fourth & Above':4})"
   ]
  },
  {
   "cell_type": "markdown",
   "metadata": {},
   "source": [
    "#### Mileage"
   ]
  },
  {
   "cell_type": "code",
   "execution_count": 26,
   "metadata": {},
   "outputs": [
    {
     "data": {
      "text/plain": [
       "0    26.6 km/kg\n",
       "1    19.67 kmpl\n",
       "2     18.2 kmpl\n",
       "3    20.77 kmpl\n",
       "4     15.2 kmpl\n",
       "Name: Mileage, dtype: object"
      ]
     },
     "execution_count": 26,
     "metadata": {},
     "output_type": "execute_result"
    }
   ],
   "source": [
    "train_data['Mileage'].head()"
   ]
  },
  {
   "cell_type": "markdown",
   "metadata": {},
   "source": [
    "The values in this column have two unit suffixes **kmpl** and **km/kg.**  \n",
    "We will first convert the **km/kg** value to **km/litre** (Since the latter seems to have more values) and then remove the unit suffix while ensuring the resultant value is saved as a  `float`."
   ]
  },
  {
   "cell_type": "code",
   "execution_count": 27,
   "metadata": {},
   "outputs": [],
   "source": [
    "def convert_Milage(x):\n",
    "    if str(x).endswith(\"km/kg\"):\n",
    "        return float(x.split(' ')[0])*0.74\n",
    "    elif str(x).endswith(\"kmpl\"):\n",
    "        return float(x.split(' ')[0])\n",
    "\n",
    "# We put the function inside the apply function    \n",
    "train_data['Mileage'] = train_data['Mileage'].apply(convert_Milage)"
   ]
  },
  {
   "cell_type": "markdown",
   "metadata": {},
   "source": [
    "#### Engine\n"
   ]
  },
  {
   "cell_type": "code",
   "execution_count": 28,
   "metadata": {},
   "outputs": [
    {
     "data": {
      "text/plain": [
       "0     998 CC\n",
       "1    1582 CC\n",
       "2    1199 CC\n",
       "3    1248 CC\n",
       "4    1968 CC\n",
       "Name: Engine, dtype: object"
      ]
     },
     "execution_count": 28,
     "metadata": {},
     "output_type": "execute_result"
    }
   ],
   "source": [
    "train_data['Engine'].head()"
   ]
  },
  {
   "cell_type": "markdown",
   "metadata": {},
   "source": [
    "Remove the 'cc' unit suffix and ensure that the values are saved as `int`."
   ]
  },
  {
   "cell_type": "code",
   "execution_count": 29,
   "metadata": {},
   "outputs": [],
   "source": [
    "train_data['Engine']= train_data['Engine'].apply(lambda x:int(x.split(' ')[0]))"
   ]
  },
  {
   "cell_type": "markdown",
   "metadata": {},
   "source": [
    "#### Power"
   ]
  },
  {
   "cell_type": "code",
   "execution_count": 30,
   "metadata": {},
   "outputs": [
    {
     "data": {
      "text/plain": [
       "0    58.16 bhp\n",
       "1    126.2 bhp\n",
       "2     88.7 bhp\n",
       "3    88.76 bhp\n",
       "4    140.8 bhp\n",
       "Name: Power, dtype: object"
      ]
     },
     "execution_count": 30,
     "metadata": {},
     "output_type": "execute_result"
    }
   ],
   "source": [
    "train_data['Power'].head()"
   ]
  },
  {
   "cell_type": "markdown",
   "metadata": {},
   "source": [
    "##### Remove the 'bhp' unit suffix."
   ]
  },
  {
   "cell_type": "code",
   "execution_count": 31,
   "metadata": {},
   "outputs": [],
   "source": [
    "def convert_Power(x):\n",
    "    try:\n",
    "        x = x.split(' ')[0]\n",
    "        if type(x) == str :\n",
    "            return float(x)\n",
    "    except:\n",
    "        return 0\n",
    "    \n",
    "train_data['Power']= train_data['Power'].apply(convert_Power)"
   ]
  },
  {
   "cell_type": "markdown",
   "metadata": {},
   "source": [
    "#### Seats   "
   ]
  },
  {
   "cell_type": "code",
   "execution_count": 32,
   "metadata": {},
   "outputs": [
    {
     "name": "stdout",
     "output_type": "stream",
     "text": [
      "[ 5.  7.  8.  4.  6.  2. 10.  9.  0.]\n"
     ]
    }
   ],
   "source": [
    "print(train_data['Seats'].unique())"
   ]
  },
  {
   "cell_type": "markdown",
   "metadata": {},
   "source": [
    "##### Remove the entry with 0 seats"
   ]
  },
  {
   "cell_type": "code",
   "execution_count": 33,
   "metadata": {},
   "outputs": [],
   "source": [
    "train_data.drop(index= train_data[train_data['Seats'] == 0].index,inplace=True)"
   ]
  },
  {
   "cell_type": "markdown",
   "metadata": {},
   "source": [
    "### A final evaluation before we move onto Model training."
   ]
  },
  {
   "cell_type": "code",
   "execution_count": 34,
   "metadata": {},
   "outputs": [
    {
     "name": "stdout",
     "output_type": "stream",
     "text": [
      "   Location  Year  Kilometers_Driven  Fuel_Type  Transmission  Owner_Type  \\\n",
      "0         9  2010              72000          2             0           1   \n",
      "1        10  2015              41000          0             0           1   \n",
      "2         2  2011              46000          1             0           1   \n",
      "3         2  2012              87000          0             0           1   \n",
      "4         3  2013              40670          0             1           2   \n",
      "5         5  2012              75000          3             0           1   \n",
      "6         6  2013              86999          0             0           1   \n",
      "7         9  2016              36000          0             1           1   \n",
      "8        10  2013              64430          0             0           1   \n",
      "9         2  2012              65932          0             0           2   \n",
      "\n",
      "   Mileage  Engine   Power  Seats  Price  Brand  \n",
      "0   19.684     998   58.16    5.0   1.75     12  \n",
      "1   19.670    1582  126.20    5.0  12.50      7  \n",
      "2   18.200    1199   88.70    5.0   4.50      6  \n",
      "3   20.770    1248   88.76    7.0   6.00     12  \n",
      "4   15.200    1968  140.80    5.0  17.74      0  \n",
      "5   15.614     814   55.20    5.0   2.35      7  \n",
      "6   23.080    1461   63.10    5.0   3.50     16  \n",
      "7   11.360    2755  171.50    8.0  17.50     21  \n",
      "8   20.540    1598  103.60    5.0   5.20     22  \n",
      "9   22.300    1248   74.00    5.0   1.95     20  \n"
     ]
    }
   ],
   "source": [
    "print(train_data.head(10))"
   ]
  },
  {
   "cell_type": "markdown",
   "metadata": {},
   "source": [
    "## 3.Choosing a model\n",
    "\n",
    "Regression should be used for predicting the **Price** ,as our target variable it is continuous, meaning it can take any numerical value within a given range.  \n",
    "Regression will allow us to establish the relationship between the independent variables **(features)** and the dependent variable **(Price)** in the dataset, and make predictions on new data points.\n",
    "\n",
    "Regression models that we will be using are as follows :\n",
    "- Linear Regression\n",
    "- Decision Tree Regression\n",
    "- Random Forest Regression\n",
    "- K-Nearest Neighbours Regression"
   ]
  },
  {
   "cell_type": "markdown",
   "metadata": {},
   "source": [
    "Import the necessary libraries for model training."
   ]
  },
  {
   "cell_type": "code",
   "execution_count": 35,
   "metadata": {},
   "outputs": [],
   "source": [
    "from sklearn.model_selection import train_test_split\n",
    "from sklearn.linear_model import LinearRegression\n",
    "from sklearn.tree import DecisionTreeRegressor\n",
    "from sklearn.ensemble import RandomForestRegressor\n",
    "from sklearn.neighbors import KNeighborsRegressor"
   ]
  },
  {
   "cell_type": "markdown",
   "metadata": {},
   "source": [
    "###  4.Train the model\n",
    "We shall use the **Price** column as our output/target column and rest of the **features** as our output. We split the input and output data for training and testing using the `train_test_split()`,we specify our test size to 15% ."
   ]
  },
  {
   "cell_type": "code",
   "execution_count": 36,
   "metadata": {},
   "outputs": [],
   "source": [
    "y = train_data['Price']\n",
    "x = train_data.drop(columns='Price')\n",
    "x_train,x_test,y_train,y_test = train_test_split(x,y,test_size=0.15)"
   ]
  },
  {
   "cell_type": "markdown",
   "metadata": {},
   "source": [
    "### Linear Regression\n",
    "Linear regression is a statistical technique that aims to model the relationship between a dependent variable and one or more independent variables by fitting a linear equation to the observed data, making it suitable for predicting continuous numerical values."
   ]
  },
  {
   "cell_type": "code",
   "execution_count": 37,
   "metadata": {},
   "outputs": [],
   "source": [
    "lr = LinearRegression()\n",
    "lr.fit(x_train,y_train)\n",
    "lr_predicted = lr.predict(x_test)\n",
    "lr_Test_Acc = int(lr.score(x_train,y_train)*100)"
   ]
  },
  {
   "cell_type": "markdown",
   "metadata": {},
   "source": [
    "### Decision Tree Regressor\n",
    "Decision tree regressor is a predictive model that uses a binary tree structure to make sequential decisions based on feature values, allowing it to predict continuous values by traversing the tree from the root to a leaf node representing the predicted value."
   ]
  },
  {
   "cell_type": "code",
   "execution_count": 38,
   "metadata": {},
   "outputs": [],
   "source": [
    "dtr = DecisionTreeRegressor()\n",
    "dtr.fit(x_train,y_train)\n",
    "dtr_predicted = dtr.predict(x_test)\n",
    "dtr_Test_Acc = int(dtr.score(x_train,y_train)*100)"
   ]
  },
  {
   "cell_type": "markdown",
   "metadata": {},
   "source": [
    "###  Random Forest Regression\n",
    "Random forest regressor is an ensemble learning method that combines multiple decision tree regressors, each trained on a random subset of the data and features, to make predictions by averaging the individual tree predictions, resulting in improved accuracy and reduced overfitting compared to a single decision tree."
   ]
  },
  {
   "cell_type": "code",
   "execution_count": 39,
   "metadata": {},
   "outputs": [],
   "source": [
    "rfr = RandomForestRegressor()\n",
    "rfr.fit(x_train,y_train)\n",
    "rfr_predicted = rfr.predict(x_test)\n",
    "rfr_Test_Acc = int(rfr.score(x_train,y_train)*100)"
   ]
  },
  {
   "cell_type": "markdown",
   "metadata": {},
   "source": [
    "### K-Nearest Neighbour Regression\n",
    "KNN regression is a non-parametric algorithm that predicts the value of a new data point by considering the average of the target values of its k-nearest neighbours, making it useful for making predictions based on similar instances in the feature space."
   ]
  },
  {
   "cell_type": "code",
   "execution_count": 40,
   "metadata": {},
   "outputs": [],
   "source": [
    "knr = KNeighborsRegressor(weights='distance')\n",
    "knr.fit(x_train,y_train)\n",
    "knr_predicted = knr.predict(x_test)\n",
    "knr_Test_Acc = int(knr.score(x_train,y_train)*100)"
   ]
  },
  {
   "cell_type": "markdown",
   "metadata": {},
   "source": [
    "## 5. Data Evaluation and Testing .\n",
    "We shall visualize our testing accuracy and prediction errors by comparing the different model's performance through graphs using matplotlib."
   ]
  },
  {
   "cell_type": "code",
   "execution_count": 41,
   "metadata": {},
   "outputs": [],
   "source": [
    "import matplotlib.pyplot as plt"
   ]
  },
  {
   "cell_type": "markdown",
   "metadata": {},
   "source": [
    "### Training Accuracy\n",
    "Using the built-in `score()` function we shall find the trianing accuracies of the models."
   ]
  },
  {
   "cell_type": "code",
   "execution_count": 42,
   "metadata": {},
   "outputs": [
    {
     "data": {
      "image/png": "[encoded data removed]",
      "text/plain": [
       "<Figure size 640x480 with 1 Axes>"
      ]
     },
     "metadata": {},
     "output_type": "display_data"
    }
   ],
   "source": [
    "plt.bar(['LR','DTR','RFR','KNR'],\n",
    "        height=[lr_Test_Acc,\n",
    "                dtr_Test_Acc,\n",
    "                rfr_Test_Acc,\n",
    "                knr_Test_Acc]\n",
    "        ,color=['red','blue','green','orange'])\n",
    "plt.xlabel(\" Model Used \")\n",
    "plt.ylabel('Training Accuracy in % (Higher is better)')\n",
    "plt.title('Training Accuracy Comparison')\n",
    "plt.show()"
   ]
  },
  {
   "cell_type": "markdown",
   "metadata": {},
   "source": [
    "### Comparison of Error Metrics\n",
    "\n",
    "Commonly used error metrics for regression include Mean Squared Error (MSE), Mean Absolute Percentage Error (MAPE) and $R^2 Score$. These error metrics provide different insights into a model's performance, in predicting the data. "
   ]
  },
  {
   "cell_type": "code",
   "execution_count": 43,
   "metadata": {},
   "outputs": [],
   "source": [
    "from sklearn.metrics import mean_squared_error,mean_absolute_percentage_error"
   ]
  },
  {
   "cell_type": "markdown",
   "metadata": {},
   "source": [
    "#### Mean Squared Error\n",
    "Mean Squared Error (MSE) is an error metric used to assess the performance of regression models. It calculates the average of the squared differences between predicted and actual values, providing a measure of the model's prediction accuracy.A lower MSE indicates that the model's predictions are closer to the actual values, which signifies higher accuracy and better performance."
   ]
  },
  {
   "cell_type": "code",
   "execution_count": 44,
   "metadata": {},
   "outputs": [
    {
     "data": {
      "image/png": "[encoded data removed]",
      "text/plain": [
       "<Figure size 640x480 with 1 Axes>"
      ]
     },
     "metadata": {},
     "output_type": "display_data"
    }
   ],
   "source": [
    "lr_mse = mean_squared_error(y_test,lr_predicted)\n",
    "dtr_mse = mean_squared_error(y_test,dtr_predicted)\n",
    "rfr_mse = mean_squared_error(y_test,rfr_predicted)\n",
    "knr_mse = mean_squared_error(y_test,knr_predicted)\n",
    "\n",
    "plt.bar(['LR','DTR','RFR','KNN'],\n",
    "        height=[lr_mse,\n",
    "                dtr_mse,\n",
    "                rfr_mse,\n",
    "                knr_mse]\n",
    "        ,color=['red','blue','green','orange'])\n",
    "plt.xlabel(\" Model Used \")\n",
    "plt.ylabel(\"Mean Squared Error (Lower is better)\")\n",
    "plt.title('Mean Squared Error Comparison')\n",
    "plt.show()"
   ]
  },
  {
   "cell_type": "markdown",
   "metadata": {},
   "source": [
    "#### Mean Absolute Percentage Error (MAPE)\n",
    "\n",
    "MAPE (Mean Absolute Percentage Error) is an error metric used to evaluate the accuracy of a forecasting or regression model. It measures the average percentage difference between the predicted values and the corresponding actual values, providing a relative measure of prediction accuracy. A lower MAPE indicates better predictive performance of the model."
   ]
  },
  {
   "cell_type": "code",
   "execution_count": 45,
   "metadata": {},
   "outputs": [
    {
     "data": {
      "image/png": "[encoded data removed]",
      "text/plain": [
       "<Figure size 640x480 with 1 Axes>"
      ]
     },
     "metadata": {},
     "output_type": "display_data"
    }
   ],
   "source": [
    "lr_mape = mean_absolute_percentage_error(y_test,lr_predicted)*100\n",
    "dtr_mape = mean_absolute_percentage_error(y_test,dtr_predicted)*100\n",
    "rfr_mape = mean_absolute_percentage_error(y_test,rfr_predicted)*100\n",
    "knr_mape = mean_absolute_percentage_error(y_test,knr_predicted)*100\n",
    "\n",
    "plt.bar(['LR','DTR','RFR','KNN'],\n",
    "        height=[lr_mape,\n",
    "                dtr_mape,\n",
    "                rfr_mape,\n",
    "                knr_mape]\n",
    "        ,color=['red','blue','green','orange'])\n",
    "plt.xlabel(\" Model Used \")\n",
    "plt.ylabel(\"Mean Absolute Percentage Error (Lower is better)\")\n",
    "plt.title('Mean Absolute Percentage Error Comparison')\n",
    "plt.show()"
   ]
  },
  {
   "cell_type": "markdown",
   "metadata": {},
   "source": [
    "### Conclusion\n",
    "From the above the graphs it is noted that **Random Forest Regression** has the lowest *MAPE* and *MSE* values with **Decision Tree Regression** being a close second, while **KNN** and **Linear regression** algorithms show high values in both the error metrics. \n",
    "This maybe due to the following factors :\n",
    "\n",
    "- **Lack of Local Smoothness :** In regression problems, the assumption of local smoothness implies that nearby data points should have similar target values. However, this assumption may not always hold true for all datasets. In cases where the target variable shows high variability in the vicinity of a data point, **KNN** may fail to capture the underlying patterns accurately.\n",
    "  \n",
    "- **Non-Linearity in the Data:** **Linear Regression** assumes a linear relationship between the independent variables (features) and the dependent variable (target/output). If the true relationship between the variables is non-linear, linear regression will fail to capture this complexity, leading to inaccurate predictions. In such cases, the model's predictions may deviate significantly from the actual values, resulting in poor accuracy. \n",
    "\n",
    "**Decision Trees** and **Random Forests** are not affected by these factors because they make splits based on the individual features and do not rely on linear combinations.\n"
   ]
  }
 ],
 "metadata": {
  "kernelspec": {
   "display_name": ".venv",
   "language": "python",
   "name": "python3"
  },
  "language_info": {
   "codemirror_mode": {
    "name": "ipython",
    "version": 3
   },
   "file_extension": ".py",
   "mimetype": "text/x-python",
   "name": "python",
   "nbconvert_exporter": "python",
   "pygments_lexer": "ipython3",
   "version": "3.11.3"
  },
  "orig_nbformat": 4
 },
 "nbformat": 4,
 "nbformat_minor": 2
}
